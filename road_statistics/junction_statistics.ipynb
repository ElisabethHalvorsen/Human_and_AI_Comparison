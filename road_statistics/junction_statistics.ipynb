{
 "cells": [
  {
   "cell_type": "code",
   "execution_count": 10,
   "outputs": [],
   "source": [
    "import pandas as pd\n",
    "import helpers as stat\n",
    "import importlib\n",
    "importlib.reload(stat)\n",
    "from helpers import remove_redundant_rows, merge_two_and_more_vehicle_crashes, print_to_html"
   ],
   "metadata": {
    "collapsed": false
   }
  },
  {
   "cell_type": "markdown",
   "source": [
    "# Fatal Motor Vehicle Crashes 1"
   ],
   "metadata": {
    "collapsed": false
   }
  },
  {
   "cell_type": "code",
   "execution_count": 11,
   "outputs": [
    {
     "data": {
      "text/plain": "   by Relation To Junction   Clear/Cloudy                      Rain (Mist)  \\\n        Unnamed: 0_level_1 Single-Vehicle Multiple Vehicles Single-Vehicle   \n1                 Daylight           3646           13415.0            217   \n6       Dark - Not Lighted           1676            1904.0            222   \n11          Dark - Lighted           4377            4378.0            636   \n16                    Dawn            168             280.0             26   \n21                    Dusk            253             617.0             14   \n\n                     Fog, Smog, Smoke                   Severe Crosswinds  \\\n   Multiple Vehicles   Single-Vehicle Multiple Vehicles    Single-Vehicle   \n1              822.0               11              87.0                 4   \n6              222.0               59              67.0                 1   \n11             335.0               49              39.0                 3   \n16              38.0                7              41.0                 0   \n21              40.0                3               2.0                 1   \n\n                     Blowing Sand, Soil, Dirt                    \\\n   Multiple Vehicles           Single-Vehicle Multiple Vehicles   \n1               19.0                        0               5.0   \n6                2.0                        0               1.0   \n11               4.0                        1               1.0   \n16               0.0                        0               0.0   \n21               0.0                        0               0.0   \n\n           Cloudy                    \n   Single-Vehicle Multiple Vehicles  \n1             584            2588.0  \n6             301             402.0  \n11            674             694.0  \n16             50              68.0  \n21             41             125.0  ",
      "text/html": "<div>\n<style scoped>\n    .dataframe tbody tr th:only-of-type {\n        vertical-align: middle;\n    }\n\n    .dataframe tbody tr th {\n        vertical-align: top;\n    }\n\n    .dataframe thead tr th {\n        text-align: left;\n    }\n</style>\n<table border=\"1\" class=\"dataframe\">\n  <thead>\n    <tr>\n      <th></th>\n      <th>by Relation To Junction</th>\n      <th colspan=\"2\" halign=\"left\">Clear/Cloudy</th>\n      <th colspan=\"2\" halign=\"left\">Rain (Mist)</th>\n      <th colspan=\"2\" halign=\"left\">Fog, Smog, Smoke</th>\n      <th colspan=\"2\" halign=\"left\">Severe Crosswinds</th>\n      <th colspan=\"2\" halign=\"left\">Blowing Sand, Soil, Dirt</th>\n      <th colspan=\"2\" halign=\"left\">Cloudy</th>\n    </tr>\n    <tr>\n      <th></th>\n      <th>Unnamed: 0_level_1</th>\n      <th>Single-Vehicle</th>\n      <th>Multiple Vehicles</th>\n      <th>Single-Vehicle</th>\n      <th>Multiple Vehicles</th>\n      <th>Single-Vehicle</th>\n      <th>Multiple Vehicles</th>\n      <th>Single-Vehicle</th>\n      <th>Multiple Vehicles</th>\n      <th>Single-Vehicle</th>\n      <th>Multiple Vehicles</th>\n      <th>Single-Vehicle</th>\n      <th>Multiple Vehicles</th>\n    </tr>\n  </thead>\n  <tbody>\n    <tr>\n      <th>1</th>\n      <td>Daylight</td>\n      <td>3646</td>\n      <td>13415.0</td>\n      <td>217</td>\n      <td>822.0</td>\n      <td>11</td>\n      <td>87.0</td>\n      <td>4</td>\n      <td>19.0</td>\n      <td>0</td>\n      <td>5.0</td>\n      <td>584</td>\n      <td>2588.0</td>\n    </tr>\n    <tr>\n      <th>6</th>\n      <td>Dark - Not Lighted</td>\n      <td>1676</td>\n      <td>1904.0</td>\n      <td>222</td>\n      <td>222.0</td>\n      <td>59</td>\n      <td>67.0</td>\n      <td>1</td>\n      <td>2.0</td>\n      <td>0</td>\n      <td>1.0</td>\n      <td>301</td>\n      <td>402.0</td>\n    </tr>\n    <tr>\n      <th>11</th>\n      <td>Dark - Lighted</td>\n      <td>4377</td>\n      <td>4378.0</td>\n      <td>636</td>\n      <td>335.0</td>\n      <td>49</td>\n      <td>39.0</td>\n      <td>3</td>\n      <td>4.0</td>\n      <td>1</td>\n      <td>1.0</td>\n      <td>674</td>\n      <td>694.0</td>\n    </tr>\n    <tr>\n      <th>16</th>\n      <td>Dawn</td>\n      <td>168</td>\n      <td>280.0</td>\n      <td>26</td>\n      <td>38.0</td>\n      <td>7</td>\n      <td>41.0</td>\n      <td>0</td>\n      <td>0.0</td>\n      <td>0</td>\n      <td>0.0</td>\n      <td>50</td>\n      <td>68.0</td>\n    </tr>\n    <tr>\n      <th>21</th>\n      <td>Dusk</td>\n      <td>253</td>\n      <td>617.0</td>\n      <td>14</td>\n      <td>40.0</td>\n      <td>3</td>\n      <td>2.0</td>\n      <td>1</td>\n      <td>0.0</td>\n      <td>0</td>\n      <td>0.0</td>\n      <td>41</td>\n      <td>125.0</td>\n    </tr>\n  </tbody>\n</table>\n</div>"
     },
     "execution_count": 11,
     "metadata": {},
     "output_type": "execute_result"
    }
   ],
   "source": [
    "df = pd.read_excel('junction_statistics.xls', engine='xlrd', nrows=25, skiprows=7, header=[0,2])\n",
    "labels = [\"Sleet, Hail (Freezing Rain or Drizzle)\",\n",
    "          \"Snow\",\n",
    "          \"Other\",\n",
    "          \"Blowing Snow\",\n",
    "          \"Freezing Rain or Drizzle\",\n",
    "          \"Unknown/Not Reported\",\n",
    "          \"Total\"\n",
    "          ]\n",
    "\n",
    "df = remove_redundant_rows(df, labels, 5)\n",
    "df = df.drop('Unnamed: 1_level_1', axis=1, level=1)  # rm redundant junction col\n",
    "df = df.drop(columns='Total', axis=1, level=1)  # rm redundant Total col\n",
    "df = merge_two_and_more_vehicle_crashes(df)\n",
    "df = df.rename(columns={'No Adverse Atmospheric Conditions/Clear/Cloudy': 'Clear/Cloudy'},\n",
    "          level=0)\n",
    "print_to_html(df, 'fatal_motor_vehicle_crashes')\n",
    "df"
   ],
   "metadata": {
    "collapsed": false
   }
  },
  {
   "cell_type": "markdown",
   "source": [
    "# Estimated Injury Only Motor Vehicle Crashes 2,3"
   ],
   "metadata": {
    "collapsed": false
   }
  },
  {
   "cell_type": "code",
   "execution_count": 12,
   "outputs": [
    {
     "data": {
      "text/plain": "    by Relation To Junction   Clear/Cloudy                      Rain (Mist)  \\\n         Unnamed: 0_level_1 Single-Vehicle Multiple Vehicles Single-Vehicle   \n1                  Daylight         301118         2158289.0          23506   \n5        Dark - Not Lighted          40769          102836.0           6231   \n9            Dark - Lighted         123128          529919.0          24349   \n13                     Dawn           6741           31035.0           1310   \n17                     Dusk          11285           65741.0           2249   \n21  Dark - Unknown Lighting           4027           11059.0            671   \n\n                     Fog, Smog, Smoke                   Severe Crosswinds  \\\n   Multiple Vehicles   Single-Vehicle Multiple Vehicles    Single-Vehicle   \n1           226792.0              827            4856.0               136   \n5            18899.0             1642             849.0                 0   \n9            79463.0              448            2044.0               102   \n13            5561.0              820            1358.0                 0   \n17           13010.0                0             248.0                 0   \n21            1336.0              146             136.0                 0   \n\n                     Blowing Sand, Soil, Dirt                    \\\n   Multiple Vehicles           Single-Vehicle Multiple Vehicles   \n1             1804.0                        0             250.0   \n5              190.0                        0             189.0   \n9               26.0                       24               0.0   \n13             185.0                        0               0.0   \n17               0.0                        0             140.0   \n21               0.0                        0               0.0   \n\n           Cloudy                    \n   Single-Vehicle Multiple Vehicles  \n1           52755          468656.0  \n5            7447           20299.0  \n9           15684           75498.0  \n13           1347            8824.0  \n17           2005           15399.0  \n21            271            1600.0  ",
      "text/html": "<div>\n<style scoped>\n    .dataframe tbody tr th:only-of-type {\n        vertical-align: middle;\n    }\n\n    .dataframe tbody tr th {\n        vertical-align: top;\n    }\n\n    .dataframe thead tr th {\n        text-align: left;\n    }\n</style>\n<table border=\"1\" class=\"dataframe\">\n  <thead>\n    <tr>\n      <th></th>\n      <th>by Relation To Junction</th>\n      <th colspan=\"2\" halign=\"left\">Clear/Cloudy</th>\n      <th colspan=\"2\" halign=\"left\">Rain (Mist)</th>\n      <th colspan=\"2\" halign=\"left\">Fog, Smog, Smoke</th>\n      <th colspan=\"2\" halign=\"left\">Severe Crosswinds</th>\n      <th colspan=\"2\" halign=\"left\">Blowing Sand, Soil, Dirt</th>\n      <th colspan=\"2\" halign=\"left\">Cloudy</th>\n    </tr>\n    <tr>\n      <th></th>\n      <th>Unnamed: 0_level_1</th>\n      <th>Single-Vehicle</th>\n      <th>Multiple Vehicles</th>\n      <th>Single-Vehicle</th>\n      <th>Multiple Vehicles</th>\n      <th>Single-Vehicle</th>\n      <th>Multiple Vehicles</th>\n      <th>Single-Vehicle</th>\n      <th>Multiple Vehicles</th>\n      <th>Single-Vehicle</th>\n      <th>Multiple Vehicles</th>\n      <th>Single-Vehicle</th>\n      <th>Multiple Vehicles</th>\n    </tr>\n  </thead>\n  <tbody>\n    <tr>\n      <th>1</th>\n      <td>Daylight</td>\n      <td>301118</td>\n      <td>2158289.0</td>\n      <td>23506</td>\n      <td>226792.0</td>\n      <td>827</td>\n      <td>4856.0</td>\n      <td>136</td>\n      <td>1804.0</td>\n      <td>0</td>\n      <td>250.0</td>\n      <td>52755</td>\n      <td>468656.0</td>\n    </tr>\n    <tr>\n      <th>5</th>\n      <td>Dark - Not Lighted</td>\n      <td>40769</td>\n      <td>102836.0</td>\n      <td>6231</td>\n      <td>18899.0</td>\n      <td>1642</td>\n      <td>849.0</td>\n      <td>0</td>\n      <td>190.0</td>\n      <td>0</td>\n      <td>189.0</td>\n      <td>7447</td>\n      <td>20299.0</td>\n    </tr>\n    <tr>\n      <th>9</th>\n      <td>Dark - Lighted</td>\n      <td>123128</td>\n      <td>529919.0</td>\n      <td>24349</td>\n      <td>79463.0</td>\n      <td>448</td>\n      <td>2044.0</td>\n      <td>102</td>\n      <td>26.0</td>\n      <td>24</td>\n      <td>0.0</td>\n      <td>15684</td>\n      <td>75498.0</td>\n    </tr>\n    <tr>\n      <th>13</th>\n      <td>Dawn</td>\n      <td>6741</td>\n      <td>31035.0</td>\n      <td>1310</td>\n      <td>5561.0</td>\n      <td>820</td>\n      <td>1358.0</td>\n      <td>0</td>\n      <td>185.0</td>\n      <td>0</td>\n      <td>0.0</td>\n      <td>1347</td>\n      <td>8824.0</td>\n    </tr>\n    <tr>\n      <th>17</th>\n      <td>Dusk</td>\n      <td>11285</td>\n      <td>65741.0</td>\n      <td>2249</td>\n      <td>13010.0</td>\n      <td>0</td>\n      <td>248.0</td>\n      <td>0</td>\n      <td>0.0</td>\n      <td>0</td>\n      <td>140.0</td>\n      <td>2005</td>\n      <td>15399.0</td>\n    </tr>\n    <tr>\n      <th>21</th>\n      <td>Dark - Unknown Lighting</td>\n      <td>4027</td>\n      <td>11059.0</td>\n      <td>671</td>\n      <td>1336.0</td>\n      <td>146</td>\n      <td>136.0</td>\n      <td>0</td>\n      <td>0.0</td>\n      <td>0</td>\n      <td>0.0</td>\n      <td>271</td>\n      <td>1600.0</td>\n    </tr>\n  </tbody>\n</table>\n</div>"
     },
     "execution_count": 12,
     "metadata": {},
     "output_type": "execute_result"
    }
   ],
   "source": [
    "df = pd.read_excel('junction_statistics.xls', engine='xlrd', nrows=25, skiprows=66, header=[0,2])\n",
    "\n",
    "labels = [\"Sleet, Hail (Freezing Rain or Drizzle)\",\n",
    "          \"Snow\",\n",
    "          \"Other\",\n",
    "          \"Blowing Snow\",\n",
    "          \"Freezing Rain or Drizzle\",\n",
    "          \"Total\"]\n",
    "\n",
    "df = remove_redundant_rows(df, labels, 4)\n",
    "df = df.drop('Unnamed: 1_level_1', axis=1, level=1)  # rm redundant junction col\n",
    "df = df.drop(columns='Total', axis=1, level=1)  # rm redundant Total col\n",
    "df = merge_two_and_more_vehicle_crashes(df)\n",
    "df = df.rename(columns={'No Adverse Atmospheric Conditions/Clear/Cloudy': 'Clear/Cloudy'},\n",
    "               level=0)\n",
    "print_to_html(df, 'injury_motor_vehicle_crashes')\n",
    "df"
   ],
   "metadata": {
    "collapsed": false
   }
  },
  {
   "cell_type": "markdown",
   "source": [
    "# Estimated Property-Damage-Only (PDO) Motor Vehicle Crashes 2,3"
   ],
   "metadata": {
    "collapsed": false
   }
  },
  {
   "cell_type": "code",
   "execution_count": 13,
   "outputs": [
    {
     "data": {
      "text/plain": "    by Relation To Junction   Clear/Cloudy                      Rain (Mist)  \\\n         Unnamed: 0_level_1 Single-Vehicle Multiple Vehicles Single-Vehicle   \n1                  Daylight         325596         4764866.0          46412   \n5        Dark - Not Lighted          88178          179974.0          20184   \n9            Dark - Lighted         165493          902129.0          30510   \n13                     Dawn           8900           53874.0           1361   \n17                     Dusk          11094          140387.0           1931   \n21  Dark - Unknown Lighting           7995           21908.0           1438   \n\n                     Fog, Smog, Smoke                   Severe Crosswinds  \\\n   Multiple Vehicles   Single-Vehicle Multiple Vehicles    Single-Vehicle   \n1           555120.0             1521           10484.0               290   \n5            40836.0             3221            3164.0               217   \n9           171423.0             2097            3351.0                 0   \n13           14930.0              564            1483.0                 0   \n17           23759.0              151             599.0                 0   \n21            5319.0                0             154.0                 0   \n\n                     Blowing Sand, Soil, Dirt                    \\\n   Multiple Vehicles           Single-Vehicle Multiple Vehicles   \n1             3440.0                      377             639.0   \n5              320.0                        0             171.0   \n9              626.0                      226             528.0   \n13               0.0                        0               0.0   \n17             240.0                        0               0.0   \n21               0.0                        0               0.0   \n\n           Cloudy                    \n   Single-Vehicle Multiple Vehicles  \n1           76495         1044130.0  \n5           15868           36456.0  \n9           27803          137319.0  \n13           3164           19061.0  \n17           4241           33192.0  \n21           1827            4182.0  ",
      "text/html": "<div>\n<style scoped>\n    .dataframe tbody tr th:only-of-type {\n        vertical-align: middle;\n    }\n\n    .dataframe tbody tr th {\n        vertical-align: top;\n    }\n\n    .dataframe thead tr th {\n        text-align: left;\n    }\n</style>\n<table border=\"1\" class=\"dataframe\">\n  <thead>\n    <tr>\n      <th></th>\n      <th>by Relation To Junction</th>\n      <th colspan=\"2\" halign=\"left\">Clear/Cloudy</th>\n      <th colspan=\"2\" halign=\"left\">Rain (Mist)</th>\n      <th colspan=\"2\" halign=\"left\">Fog, Smog, Smoke</th>\n      <th colspan=\"2\" halign=\"left\">Severe Crosswinds</th>\n      <th colspan=\"2\" halign=\"left\">Blowing Sand, Soil, Dirt</th>\n      <th colspan=\"2\" halign=\"left\">Cloudy</th>\n    </tr>\n    <tr>\n      <th></th>\n      <th>Unnamed: 0_level_1</th>\n      <th>Single-Vehicle</th>\n      <th>Multiple Vehicles</th>\n      <th>Single-Vehicle</th>\n      <th>Multiple Vehicles</th>\n      <th>Single-Vehicle</th>\n      <th>Multiple Vehicles</th>\n      <th>Single-Vehicle</th>\n      <th>Multiple Vehicles</th>\n      <th>Single-Vehicle</th>\n      <th>Multiple Vehicles</th>\n      <th>Single-Vehicle</th>\n      <th>Multiple Vehicles</th>\n    </tr>\n  </thead>\n  <tbody>\n    <tr>\n      <th>1</th>\n      <td>Daylight</td>\n      <td>325596</td>\n      <td>4764866.0</td>\n      <td>46412</td>\n      <td>555120.0</td>\n      <td>1521</td>\n      <td>10484.0</td>\n      <td>290</td>\n      <td>3440.0</td>\n      <td>377</td>\n      <td>639.0</td>\n      <td>76495</td>\n      <td>1044130.0</td>\n    </tr>\n    <tr>\n      <th>5</th>\n      <td>Dark - Not Lighted</td>\n      <td>88178</td>\n      <td>179974.0</td>\n      <td>20184</td>\n      <td>40836.0</td>\n      <td>3221</td>\n      <td>3164.0</td>\n      <td>217</td>\n      <td>320.0</td>\n      <td>0</td>\n      <td>171.0</td>\n      <td>15868</td>\n      <td>36456.0</td>\n    </tr>\n    <tr>\n      <th>9</th>\n      <td>Dark - Lighted</td>\n      <td>165493</td>\n      <td>902129.0</td>\n      <td>30510</td>\n      <td>171423.0</td>\n      <td>2097</td>\n      <td>3351.0</td>\n      <td>0</td>\n      <td>626.0</td>\n      <td>226</td>\n      <td>528.0</td>\n      <td>27803</td>\n      <td>137319.0</td>\n    </tr>\n    <tr>\n      <th>13</th>\n      <td>Dawn</td>\n      <td>8900</td>\n      <td>53874.0</td>\n      <td>1361</td>\n      <td>14930.0</td>\n      <td>564</td>\n      <td>1483.0</td>\n      <td>0</td>\n      <td>0.0</td>\n      <td>0</td>\n      <td>0.0</td>\n      <td>3164</td>\n      <td>19061.0</td>\n    </tr>\n    <tr>\n      <th>17</th>\n      <td>Dusk</td>\n      <td>11094</td>\n      <td>140387.0</td>\n      <td>1931</td>\n      <td>23759.0</td>\n      <td>151</td>\n      <td>599.0</td>\n      <td>0</td>\n      <td>240.0</td>\n      <td>0</td>\n      <td>0.0</td>\n      <td>4241</td>\n      <td>33192.0</td>\n    </tr>\n    <tr>\n      <th>21</th>\n      <td>Dark - Unknown Lighting</td>\n      <td>7995</td>\n      <td>21908.0</td>\n      <td>1438</td>\n      <td>5319.0</td>\n      <td>0</td>\n      <td>154.0</td>\n      <td>0</td>\n      <td>0.0</td>\n      <td>0</td>\n      <td>0.0</td>\n      <td>1827</td>\n      <td>4182.0</td>\n    </tr>\n  </tbody>\n</table>\n</div>"
     },
     "execution_count": 13,
     "metadata": {},
     "output_type": "execute_result"
    }
   ],
   "source": [
    "df = pd.read_excel('junction_statistics.xls', engine='xlrd', nrows=25, skiprows=108, header=[0,2])\n",
    "\n",
    "labels = [\"Sleet, Hail (Freezing Rain or Drizzle)\",\n",
    "          \"Snow\",\n",
    "          \"Other\",\n",
    "          \"Blowing Snow\",\n",
    "          \"Freezing Rain or Drizzle\",\n",
    "          \"Total\"]\n",
    "\n",
    "df = remove_redundant_rows(df, labels, 4)\n",
    "df = df.drop(columns='Total', axis=1, level=1)  # rm redundant Total col\n",
    "df = df.drop('Unnamed: 1_level_1', axis=1, level=1) # rm redundant junction col\n",
    "\n",
    "df = merge_two_and_more_vehicle_crashes(df)\n",
    "df = df.rename(columns={'No Adverse Atmospheric Conditions/Clear/Cloudy': 'Clear/Cloudy'},\n",
    "               level=0)\n",
    "print_to_html(df, 'property_damage_motor_vehicle_crashes')\n",
    "\n",
    "df"
   ],
   "metadata": {
    "collapsed": false
   }
  }
 ],
 "metadata": {
  "kernelspec": {
   "display_name": "Python 3",
   "language": "python",
   "name": "python3"
  },
  "language_info": {
   "codemirror_mode": {
    "name": "ipython",
    "version": 2
   },
   "file_extension": ".py",
   "mimetype": "text/x-python",
   "name": "python",
   "nbconvert_exporter": "python",
   "pygments_lexer": "ipython2",
   "version": "2.7.6"
  }
 },
 "nbformat": 4,
 "nbformat_minor": 0
}
