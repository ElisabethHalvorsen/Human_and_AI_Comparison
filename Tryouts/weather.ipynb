{
 "cells": [
  {
   "cell_type": "code",
   "execution_count": 1,
   "metadata": {
    "collapsed": true
   },
   "outputs": [],
   "source": [
    "import carla\n",
    "from helpers.access_world import Connect\n",
    "from carla import WeatherParameters, WheelPhysicsControl\n",
    "import random"
   ]
  },
  {
   "cell_type": "code",
   "execution_count": 2,
   "outputs": [],
   "source": [
    "connect = Connect('Town07')\n",
    "client = connect.get_client()\n",
    "world = client.get_world()\n",
    "bp_lib = world.get_blueprint_library()\n",
    "spawn_points = world.get_map().get_spawn_points()\n",
    "vehicle_bp = bp_lib.find('vehicle.lincoln.mkz_2017')\n",
    "vehicle = world.try_spawn_actor(vehicle_bp, random.choice(spawn_points))"
   ],
   "metadata": {
    "collapsed": false
   }
  },
  {
   "cell_type": "code",
   "execution_count": 20,
   "outputs": [
    {
     "name": "stdout",
     "output_type": "stream",
     "text": [
      "WeatherParameters(cloudiness=10.000000, cloudiness=10.000000, precipitation=0.000000, precipitation_deposits=0.000000, wind_intensity=30.000000, sun_azimuth_angle=15.000000, sun_altitude_angle=30.000000, fog_density=35.000000, fog_distance=85.000000, fog_falloff=2.000000, wetness=0.000000, scattering_intensity=1.000000, mie_scattering_scale=0.030000, rayleigh_scattering_scale=0.033100)\n"
     ]
    }
   ],
   "source": [
    "weather = world.get_weather()\n",
    "print(weather)\n",
    "\n",
    "# world.set_weather()\n",
    "\n",
    "# #aw.get_world()\n",
    "#\n",
    "w = WeatherParameters()\n",
    "# w.sun_altitude_angle()"
   ],
   "metadata": {
    "collapsed": false
   }
  },
  {
   "cell_type": "markdown",
   "source": [
    "Define storm -> rain, wind"
   ],
   "metadata": {
    "collapsed": false
   }
  },
  {
   "cell_type": "code",
   "execution_count": 3,
   "outputs": [
    {
     "ename": "ArgumentError",
     "evalue": "Python argument types in\n    WheelPhysicsControl.__init__(WheelPhysicsControl, Vehicle)\ndid not match C++ signature:\n    __init__(_object*, float tire_friction=2.0, float damping_rate=0.25, float max_steer_angle=70.0, float radius=30.0, float max_brake_torque=1500.0, float max_handbrake_torque=3000.0, float lat_stiff_max_load=2.0, float lat_stiff_value=17.0, float long_stiff_value=1000.0, carla::geom::Vector3D position=<carla.libcarla.Vector3D object at 0x7f9ed67c7cf0>)\n    __init__(_object*)",
     "output_type": "error",
     "traceback": [
      "\u001B[0;31m---------------------------------------------------------------------------\u001B[0m",
      "\u001B[0;31mArgumentError\u001B[0m                             Traceback (most recent call last)",
      "\u001B[0;32m<ipython-input-3-aefc7a992948>\u001B[0m in \u001B[0;36m<cell line: 13>\u001B[0;34m()\u001B[0m\n\u001B[1;32m     12\u001B[0m \u001B[0;31m# set tire friction\u001B[0m\u001B[0;34m\u001B[0m\u001B[0;34m\u001B[0m\u001B[0;34m\u001B[0m\u001B[0m\n\u001B[1;32m     13\u001B[0m \u001B[0;32mfor\u001B[0m \u001B[0mv\u001B[0m \u001B[0;32min\u001B[0m \u001B[0mworld\u001B[0m\u001B[0;34m.\u001B[0m\u001B[0mget_actors\u001B[0m\u001B[0;34m(\u001B[0m\u001B[0;34m)\u001B[0m\u001B[0;34m.\u001B[0m\u001B[0mfilter\u001B[0m\u001B[0;34m(\u001B[0m\u001B[0;34m'*vehicle*'\u001B[0m\u001B[0;34m)\u001B[0m\u001B[0;34m:\u001B[0m\u001B[0;34m\u001B[0m\u001B[0;34m\u001B[0m\u001B[0m\n\u001B[0;32m---> 14\u001B[0;31m     \u001B[0mwheels\u001B[0m \u001B[0;34m=\u001B[0m \u001B[0mWheelPhysicsControl\u001B[0m\u001B[0;34m(\u001B[0m\u001B[0mv\u001B[0m\u001B[0;34m)\u001B[0m\u001B[0;34m\u001B[0m\u001B[0;34m\u001B[0m\u001B[0m\n\u001B[0m\u001B[1;32m     15\u001B[0m     \u001B[0mwheels\u001B[0m\u001B[0;34m.\u001B[0m\u001B[0mtire_friction\u001B[0m \u001B[0;34m=\u001B[0m \u001B[0;36m30\u001B[0m\u001B[0;34m\u001B[0m\u001B[0;34m\u001B[0m\u001B[0m\n\u001B[1;32m     16\u001B[0m \u001B[0;34m\u001B[0m\u001B[0m\n",
      "\u001B[0;31mArgumentError\u001B[0m: Python argument types in\n    WheelPhysicsControl.__init__(WheelPhysicsControl, Vehicle)\ndid not match C++ signature:\n    __init__(_object*, float tire_friction=2.0, float damping_rate=0.25, float max_steer_angle=70.0, float radius=30.0, float max_brake_torque=1500.0, float max_handbrake_torque=3000.0, float lat_stiff_max_load=2.0, float lat_stiff_value=17.0, float long_stiff_value=1000.0, carla::geom::Vector3D position=<carla.libcarla.Vector3D object at 0x7f9ed67c7cf0>)\n    __init__(_object*)"
     ]
    }
   ],
   "source": [
    "# update weather\n",
    "w = WeatherParameters()\n",
    "w.wind_intensity = 50\n",
    "w.sun_altitude_angle = 30.0\n",
    "w.sun_azimuth_angle = 15.0\n",
    "w.precipitation = 100  # rain intensity\n",
    "w.cloudiness = 40\n",
    "w.precipitation_deposits = 100\n",
    "w.wetness = 100\n",
    "world.set_weather(w)\n",
    "\n",
    "# set tire friction\n",
    "for v in world.get_actors().filter('*vehicle*'):\n",
    "    wheels = WheelPhysicsControl(v)\n",
    "    wheels.tire_friction = 30\n"
   ],
   "metadata": {
    "collapsed": false
   }
  },
  {
   "cell_type": "markdown",
   "source": [
    "Define Foggy conditions"
   ],
   "metadata": {
    "collapsed": false
   }
  },
  {
   "cell_type": "code",
   "execution_count": 60,
   "outputs": [],
   "source": [
    "for v in world.get_actors().filter('*vehicle*'):\n",
    "    type(v)"
   ],
   "metadata": {
    "collapsed": false
   }
  },
  {
   "cell_type": "markdown",
   "source": [
    "\n",
    "Town 7 -> low visibility by field, make car go out on the road while cars are crossing"
   ],
   "metadata": {
    "collapsed": false
   }
  },
  {
   "cell_type": "markdown",
   "source": [
    "Define low sun"
   ],
   "metadata": {
    "collapsed": false
   }
  }
 ],
 "metadata": {
  "kernelspec": {
   "display_name": "Python 3",
   "language": "python",
   "name": "python3"
  },
  "language_info": {
   "codemirror_mode": {
    "name": "ipython",
    "version": 2
   },
   "file_extension": ".py",
   "mimetype": "text/x-python",
   "name": "python",
   "nbconvert_exporter": "python",
   "pygments_lexer": "ipython2",
   "version": "2.7.6"
  }
 },
 "nbformat": 4,
 "nbformat_minor": 0
}
