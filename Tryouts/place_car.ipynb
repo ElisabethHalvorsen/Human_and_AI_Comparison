{
 "cells": [
  {
   "cell_type": "code",
   "execution_count": 38,
   "metadata": {
    "collapsed": true
   },
   "outputs": [],
   "source": [
    "import copy\n",
    "import carla\n",
    "import time\n",
    "\n",
    "from typing import Tuple"
   ]
  },
  {
   "cell_type": "code",
   "execution_count": 56,
   "outputs": [],
   "source": [
    "tolerance = 10"
   ],
   "metadata": {
    "collapsed": false
   }
  },
  {
   "cell_type": "code",
   "execution_count": 2,
   "outputs": [],
   "source": [
    "client = carla.Client('localhost', 2000)\n",
    "# client.set_timeout(5.0)\n",
    "world = client.get_world()\n",
    "bp_lib = world.get_blueprint_library()\n",
    "spawn_points = world.get_map().get_spawn_points()"
   ],
   "metadata": {
    "collapsed": false
   }
  },
  {
   "cell_type": "code",
   "execution_count": 3,
   "outputs": [],
   "source": [
    "# Retrieve the spectator object\n",
    "spectator = world.get_spectator()  # carla.Actor\n",
    "\n",
    "# Get the location and rotation of the spectator through its transform\n",
    "transform = spectator.get_transform()\n",
    "\n",
    "location = transform.location\n",
    "rotation = transform.rotation\n",
    "\n",
    "# Set the spectator with an empty transform\n",
    "spectator.set_transform(carla.Transform())"
   ],
   "metadata": {
    "collapsed": false
   }
  },
  {
   "cell_type": "code",
   "execution_count": 4,
   "outputs": [],
   "source": [
    "spectator = world.get_spectator()  # carla.Actor\n",
    "transform = spectator.get_transform()"
   ],
   "metadata": {
    "collapsed": false
   }
  },
  {
   "cell_type": "code",
   "execution_count": 25,
   "outputs": [],
   "source": [
    "# get spectators location and make z 0\n",
    "transform = spectator.get_transform()\n",
    "loc = carla.Location(transform.location.x, transform.location.y, 2.0)\n",
    "rot = transform.rotation\n",
    "transform = carla.Transform(loc, rot)\n",
    "spectator.set_transform(transform)\n"
   ],
   "metadata": {
    "collapsed": false
   }
  },
  {
   "cell_type": "code",
   "execution_count": 47,
   "outputs": [],
   "source": [
    "# place vehicle\n",
    "vehicle_bp = bp_lib.find('vehicle.lincoln.mkz_2020')\n",
    "vehicle = world.try_spawn_actor(vehicle_bp, transform)\n",
    "vehicle.set_autopilot(True)"
   ],
   "metadata": {
    "collapsed": false
   }
  },
  {
   "cell_type": "code",
   "execution_count": 48,
   "outputs": [
    {
     "name": "stdout",
     "output_type": "stream",
     "text": [
      "YES\n"
     ]
    }
   ],
   "source": [
    "is_destroyed = vehicle.destroy()\n",
    "if is_destroyed:\n",
    "    print(\"YES\")\n",
    "else:\n",
    "    print(\"NO\")"
   ],
   "metadata": {
    "collapsed": false
   }
  },
  {
   "cell_type": "code",
   "execution_count": 23,
   "outputs": [
    {
     "name": "stdout",
     "output_type": "stream",
     "text": [
      "Transform(Location(x=-50.806568, y=106.418663, z=2.000000), Rotation(pitch=3.099950, yaw=-87.342819, roll=0.000100))\n",
      "<class 'carla.libcarla.Vehicle'>\n"
     ]
    },
    {
     "data": {
      "text/plain": "True"
     },
     "execution_count": 23,
     "metadata": {},
     "output_type": "execute_result"
    }
   ],
   "source": [
    "len(spawn_points)\n",
    "print(transform)\n",
    "spectator.set_transform(transform)\n",
    "print(type(vehicle))\n",
    "vehicle.destroy()"
   ],
   "metadata": {
    "collapsed": false
   }
  },
  {
   "cell_type": "code",
   "execution_count": 62,
   "outputs": [],
   "source": [
    "start = spectator.get_transform()\n",
    "loc = carla.Location(start.location.x, start.location.y, 2.0)\n",
    "rot = start.rotation\n",
    "start = carla.Transform(loc, rot)"
   ],
   "metadata": {
    "collapsed": false
   }
  },
  {
   "cell_type": "code",
   "execution_count": 68,
   "outputs": [],
   "source": [
    "vehicle_bp = bp_lib.find('vehicle.lincoln.mkz_2020')\n",
    "vehicle = world.try_spawn_actor(vehicle_bp, start)\n",
    "\n",
    "vehicle_control = carla.VehicleControl(brake=1.0)\n",
    "\n",
    "vehicle.apply_control(vehicle_control)\n"
   ],
   "metadata": {
    "collapsed": false
   }
  },
  {
   "cell_type": "code",
   "execution_count": 69,
   "outputs": [],
   "source": [
    "vehicle.apply_control(carla.VehicleControl())\n",
    "vehicle.set_autopilot(True)"
   ],
   "metadata": {
    "collapsed": false
   }
  },
  {
   "cell_type": "code",
   "execution_count": 70,
   "outputs": [],
   "source": [
    "def is_at_end(loc: carla.Location, end: carla.Location):\n",
    "    return ((end.x - tolerance < loc.x < end.x + tolerance) \\\n",
    "           and (end.y - tolerance < loc.y < end.y + tolerance))\n",
    "\n",
    "# def is_in_square(top_right: Tuple[float, float],\n",
    "#                  bottom_left: Tuple[float, float],\n",
    "#                  point: Tuple[float, float]):\n",
    "#     return (bottom_left[0] < point[0] < top_right[0] and\n",
    "#             bottom_left[1] < point[1] < top_right[1])"
   ],
   "metadata": {
    "collapsed": false
   }
  },
  {
   "cell_type": "code",
   "execution_count": 71,
   "outputs": [
    {
     "data": {
      "text/plain": "True"
     },
     "execution_count": 71,
     "metadata": {},
     "output_type": "execute_result"
    }
   ],
   "source": [
    "while not is_at_end(vehicle.get_location(), transform.location):\n",
    "    pass\n",
    "vehicle.destroy()\n",
    "\n"
   ],
   "metadata": {
    "collapsed": false
   }
  },
  {
   "cell_type": "code",
   "execution_count": 61,
   "outputs": [
    {
     "data": {
      "text/plain": "True"
     },
     "execution_count": 61,
     "metadata": {},
     "output_type": "execute_result"
    }
   ],
   "source": [
    "vehicle.destroy()\n"
   ],
   "metadata": {
    "collapsed": false
   }
  },
  {
   "cell_type": "markdown",
   "source": [
    "## Notes\n",
    "- client.get_world() takes forever to load in carla 0.9.10.1\n",
    "\n",
    "## TODO:\n",
    "- Create node that drives in one direction and with time in between\n",
    "- Create other driver that drives in the opposite direction"
   ],
   "metadata": {
    "collapsed": false
   }
  }
 ],
 "metadata": {
  "kernelspec": {
   "display_name": "Python 3",
   "language": "python",
   "name": "python3"
  },
  "language_info": {
   "codemirror_mode": {
    "name": "ipython",
    "version": 2
   },
   "file_extension": ".py",
   "mimetype": "text/x-python",
   "name": "python",
   "nbconvert_exporter": "python",
   "pygments_lexer": "ipython2",
   "version": "2.7.6"
  }
 },
 "nbformat": 4,
 "nbformat_minor": 0
}
