{
 "cells": [
  {
   "cell_type": "code",
   "execution_count": null,
   "metadata": {
    "collapsed": true
   },
   "outputs": [],
   "source": [
    "import carla\n",
    "\n",
    "class Connect:\n",
    "    def __init__(self):\n",
    "        self.__client = carla.Client('localhost', 2000)\n",
    "        self.__world = self.__client.get_world()\n",
    "        self.__bp_lib = self.__world.get_blueprint_library()\n",
    "        self.__spawn_points = self.__world.get_map().get_spawn_points()\n",
    "\n",
    "    def get_client(self):\n",
    "        return self.__client\n",
    "\n",
    "    def get_world(self):\n",
    "        return self.__world\n",
    "\n",
    "    def get_blue_print_lib(self):\n",
    "        return self.__bp_lib\n",
    "\n",
    "    def get_spawned_points(self):\n",
    "        return self.__spawn_points"
   ]
  }
 ],
 "metadata": {
  "kernelspec": {
   "display_name": "Python 3",
   "language": "python",
   "name": "python3"
  },
  "language_info": {
   "codemirror_mode": {
    "name": "ipython",
    "version": 2
   },
   "file_extension": ".py",
   "mimetype": "text/x-python",
   "name": "python",
   "nbconvert_exporter": "python",
   "pygments_lexer": "ipython2",
   "version": "2.7.6"
  }
 },
 "nbformat": 4,
 "nbformat_minor": 0
}
