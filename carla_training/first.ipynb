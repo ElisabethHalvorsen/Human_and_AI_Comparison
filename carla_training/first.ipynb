{
 "cells": [
  {
   "cell_type": "code",
   "execution_count": null,
   "metadata": {
    "collapsed": true
   },
   "outputs": [],
   "source": [
    "import carla\n",
    "import random\n",
    "\n",
    "# Connect to the client and retrieve the world object\n",
    "client = carla.Client('localhost', 2000)\n",
    "world = client.get_world()\n",
    "client.load_world('Town05')\n",
    "\n"
   ]
  },
  {
   "cell_type": "markdown",
   "source": [
    "# Spectator"
   ],
   "metadata": {
    "collapsed": false
   }
  },
  {
   "cell_type": "code",
   "execution_count": null,
   "outputs": [],
   "source": [
    "\n",
    "# Retrieve the spectator object\n",
    "spectator = world.get_spectator()\n",
    "\n",
    "# Get the location and rotation of the spectator through its transform\n",
    "transform = spectator.get_transform()\n",
    "\n",
    "location = transform.location\n",
    "rotation = transform.rotation\n",
    "\n",
    "# Set the spectator with an empty transform\n",
    "spectator.set_transform(carla.Transform())\n",
    "# This will set the spectator at the origin of the map, with 0 degrees\n",
    "# pitch, yaw and roll - a good way to orient yourself in the map\n"
   ],
   "metadata": {
    "collapsed": false
   }
  },
  {
   "cell_type": "markdown",
   "source": [
    "# Adding Non player characters"
   ],
   "metadata": {
    "collapsed": false
   }
  },
  {
   "cell_type": "code",
   "execution_count": null,
   "outputs": [],
   "source": [
    "# Get the blueprint library and filter for the vehicle blueprints\n",
    "vehicle_blueprints = world.get_blueprint_library().filter('*vehicle*')\n",
    "\n",
    "# Get the map's spawn points\n",
    "spawn_points = world.get_map().get_spawn_points()\n",
    "\n",
    "# Spawn 50 vehicles randomly distributed throughout the map\n",
    "# for each spawn point, we choose a random vehicle from the blueprint library\n",
    "for i in range(0,50):\n",
    "    world.try_spawn_actor(random.choice(vehicle_blueprints), random.choice(spawn_points))\n",
    "\n",
    "ego_vehicle = world.spawn_actor(random.choice(vehicle_blueprints), random.choice(spawn_points))"
   ],
   "metadata": {
    "collapsed": false
   }
  },
  {
   "cell_type": "markdown",
   "source": [
    "# Add sensors"
   ],
   "metadata": {
    "collapsed": false
   }
  },
  {
   "cell_type": "code",
   "execution_count": null,
   "outputs": [],
   "source": [
    "# Create a transform to place the camera on top of the vehicle\n",
    "camera_init_trans = carla.Transform(carla.Location(z=1.5))\n",
    "\n",
    "# We create the camera through a blueprint that defines its properties\n",
    "camera_bp = world.get_blueprint_library().find('sensor.camera.rgb')\n",
    "\n",
    "# We spawn the camera and attach it to our ego vehicle\n",
    "camera = world.spawn_actor(camera_bp, camera_init_trans, attach_to=ego_vehicle)\n",
    "\n",
    "# Start camera with PyGame callback\n",
    "camera.listen(lambda image: image.save_to_disk('out/%06d.png' % image.frame))"
   ],
   "metadata": {
    "collapsed": false
   }
  },
  {
   "cell_type": "markdown",
   "source": [
    "# Animating vehicles with traffic manager"
   ],
   "metadata": {
    "collapsed": false
   }
  },
  {
   "cell_type": "code",
   "execution_count": null,
   "outputs": [],
   "source": [
    "for vehicle in world.get_actors().filter('*vehicle*'):\n",
    "    vehicle.set_autopilot(True)"
   ],
   "metadata": {
    "collapsed": false
   }
  },
  {
   "cell_type": "code",
   "execution_count": null,
   "outputs": [],
   "source": [],
   "metadata": {
    "collapsed": false
   }
  }
 ],
 "metadata": {
  "kernelspec": {
   "display_name": "Python 3",
   "language": "python",
   "name": "python3"
  },
  "language_info": {
   "codemirror_mode": {
    "name": "ipython",
    "version": 2
   },
   "file_extension": ".py",
   "mimetype": "text/x-python",
   "name": "python",
   "nbconvert_exporter": "python",
   "pygments_lexer": "ipython2",
   "version": "2.7.6"
  }
 },
 "nbformat": 4,
 "nbformat_minor": 0
}
